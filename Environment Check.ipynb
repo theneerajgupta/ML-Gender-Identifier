{
 "cells": [
  {
   "cell_type": "markdown",
   "id": "a2db3ab3",
   "metadata": {},
   "source": [
    "## Installation Steps\n",
    "- download latest miniconda : https://docs.conda.io/en/latest/miniconda.html \n",
    "- install miniconda\n",
    "- conda install -y jupyter\n",
    "- conda create --name env_name python=3.7\n",
    "- conda activate env_name\n",
    "- conda install nb_conda\n",
    "- conda install -c anaconda tensorflow\n",
    "- python -m ipykernel install --user --name env_name --display-name \"Custom Kernel\"\n",
    "- conda install jupyter scikit-learn scikit-image scipy pandas pandas-datareader matplotlib pillow tqdm requests h5py pyyaml flask boto3"
   ]
  },
  {
   "cell_type": "markdown",
   "id": "50b7ceb5",
   "metadata": {},
   "source": [
    "## Dataset Used\n",
    "- https://www.kaggle.com/ananysharma/indian-names-dataset"
   ]
  },
  {
   "cell_type": "code",
   "execution_count": 1,
   "id": "2fa3b941",
   "metadata": {},
   "outputs": [],
   "source": [
    "# What version of Python do you have?\n",
    "import sys\n",
    "\n",
    "import tensorflow.keras\n",
    "import pandas as pd\n",
    "import sklearn as sk\n",
    "import tensorflow as tf"
   ]
  },
  {
   "cell_type": "code",
   "execution_count": 2,
   "id": "7a6498a3",
   "metadata": {},
   "outputs": [
    {
     "name": "stdout",
     "output_type": "stream",
     "text": [
      "Tensor Flow Version: 2.1.0\n",
      "Keras Version: 2.2.4-tf\n",
      "\n",
      "Python 3.7.10 (default, Feb 26 2021, 13:06:18) [MSC v.1916 64 bit (AMD64)]\n",
      "Pandas 1.2.4\n",
      "Scikit-Learn 0.24.1\n",
      "GPU is available\n"
     ]
    }
   ],
   "source": [
    "print(f\"Tensor Flow Version: {tf.__version__}\")\n",
    "print(f\"Keras Version: {tensorflow.keras.__version__}\")\n",
    "print()\n",
    "print(f\"Python {sys.version}\")\n",
    "print(f\"Pandas {pd.__version__}\")\n",
    "print(f\"Scikit-Learn {sk.__version__}\")\n",
    "gpu = len(tf.config.list_physical_devices('GPU'))>0\n",
    "print(\"GPU is\", \"available\" if gpu else \"NOT AVAILABLE\")"
   ]
  },
  {
   "cell_type": "code",
   "execution_count": null,
   "id": "6ed6077a",
   "metadata": {},
   "outputs": [],
   "source": [
    "yhfdghfdgh"
   ]
  },
  {
   "cell_type": "code",
   "execution_count": null,
   "id": "5ed2a5d6",
   "metadata": {},
   "outputs": [],
   "source": [
    "sdfgfdgsfg"
   ]
  },
  {
   "cell_type": "code",
   "execution_count": null,
   "id": "987a6c9b",
   "metadata": {},
   "outputs": [],
   "source": [
    "fgsdfgsdfg"
   ]
  }
 ],
 "metadata": {
  "kernelspec": {
   "display_name": "NLP Mini Kernel",
   "language": "python",
   "name": "nlpmini"
  },
  "language_info": {
   "codemirror_mode": {
    "name": "ipython",
    "version": 3
   },
   "file_extension": ".py",
   "mimetype": "text/x-python",
   "name": "python",
   "nbconvert_exporter": "python",
   "pygments_lexer": "ipython3",
   "version": "3.7.10"
  }
 },
 "nbformat": 4,
 "nbformat_minor": 5
}
