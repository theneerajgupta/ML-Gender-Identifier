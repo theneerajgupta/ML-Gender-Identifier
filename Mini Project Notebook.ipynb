{
 "cells": [
  {
   "cell_type": "markdown",
   "id": "071eb958",
   "metadata": {},
   "source": [
    "## Downloading Extra Libraries"
   ]
  },
  {
   "cell_type": "code",
   "execution_count": 1,
   "id": "7e1202c0",
   "metadata": {},
   "outputs": [],
   "source": [
    "# !pip install git+https://github.com/siddharth17196/english-hindi-transliteration\n",
    "# !pip install tqdm\n",
    "# !pip install pickle"
   ]
  },
  {
   "cell_type": "markdown",
   "id": "c71eecfb",
   "metadata": {},
   "source": [
    "## Loading Requied Libraries"
   ]
  },
  {
   "cell_type": "code",
   "execution_count": 2,
   "id": "d0fc8121",
   "metadata": {},
   "outputs": [],
   "source": [
    "import pickle\n",
    "import tensorflow\n",
    "import numpy as np\n",
    "import pandas as pd\n",
    "from tqdm import tqdm\n",
    "from elt import translit\n",
    "\n",
    "to_hindi = translit('hindi')"
   ]
  },
  {
   "cell_type": "code",
   "execution_count": 3,
   "id": "55cd1850",
   "metadata": {},
   "outputs": [
    {
     "name": "stderr",
     "output_type": "stream",
     "text": [
      "Using TensorFlow backend.\n"
     ]
    }
   ],
   "source": [
    "from keras.models import Sequential\n",
    "from keras.layers import Dense\n",
    "from keras.layers import Dropout\n",
    "from keras.layers import LSTM\n",
    "from keras.utils import np_utils\n",
    "from sklearn.preprocessing import LabelEncoder,OneHotEncoder\n",
    "from sklearn.impute import SimpleImputer\n",
    "from sklearn.model_selection import train_test_split\n",
    "from tensorflow.keras.models import save_model, load_model\n",
    "from keras.models import model_from_json\n",
    "\n",
    "imputer = SimpleImputer(missing_values=np.nan, strategy='mean')"
   ]
  },
  {
   "cell_type": "markdown",
   "id": "8726e09d",
   "metadata": {},
   "source": [
    "## Reading Boy and Girl Names"
   ]
  },
  {
   "cell_type": "code",
   "execution_count": 4,
   "id": "bab9bd9d",
   "metadata": {},
   "outputs": [],
   "source": [
    "boy_english = []\n",
    "girl_english = []\n",
    "\n",
    "with open(\"database/boy.txt\", \"r\") as txt_file:\n",
    "    lines = txt_file.readlines()\n",
    "    for name in lines :\n",
    "        boy_english.append(name[:-1].lower())\n",
    "        \n",
    "with open(\"database/girl.txt\", \"r\") as txt_file:\n",
    "    lines = txt_file.readlines()\n",
    "    for name in lines :\n",
    "        girl_english.append(name[:-1].lower())"
   ]
  },
  {
   "cell_type": "markdown",
   "id": "6f72c6b4",
   "metadata": {},
   "source": [
    "## Converting Names into Regional Scirpt"
   ]
  },
  {
   "cell_type": "code",
   "execution_count": null,
   "id": "281ae321",
   "metadata": {},
   "outputs": [
    {
     "name": "stderr",
     "output_type": "stream",
     "text": [
      " 14%|██████████▉                                                                    | 533/3865 [01:55<18:12,  3.05it/s]"
     ]
    }
   ],
   "source": [
    "boy_hindi = [to_hindi.convert([name])[0] for name in tqdm(boy_english)]\n",
    "girl_hindi = [to_hindi.convert([name])[0] for name in tqdm(girl_english)]"
   ]
  },
  {
   "cell_type": "markdown",
   "id": "0ceb3e05",
   "metadata": {},
   "source": [
    "## Creating A Name-Gender Dataset"
   ]
  },
  {
   "cell_type": "code",
   "execution_count": null,
   "id": "b37b912d",
   "metadata": {},
   "outputs": [],
   "source": [
    "name = []\n",
    "gender = []\n",
    "for word in tqdm(boy_hindi) :\n",
    "    name.append(word)\n",
    "    gender.append(0)\n",
    "    \n",
    "for word in tqdm(girl_hindi) :\n",
    "    name.append(word)\n",
    "    gender.append(1)\n",
    "    \n",
    "df = pd.DataFrame(list(zip(name, gender)), columns=['NAME', 'GENDER'])\n",
    "df.to_csv(\"database/names.csv\", index=False)"
   ]
  },
  {
   "cell_type": "markdown",
   "id": "47745f3f",
   "metadata": {},
   "source": [
    "## Fetching and Names and Labels"
   ]
  },
  {
   "cell_type": "code",
   "execution_count": null,
   "id": "22f6cae1",
   "metadata": {},
   "outputs": [],
   "source": [
    "x = df.NAME.values.tolist()\n",
    "y = df.GENDER.values.tolist()"
   ]
  },
  {
   "cell_type": "markdown",
   "id": "b3b3c6ab",
   "metadata": {},
   "source": [
    "## Padding Names With Zeros"
   ]
  },
  {
   "cell_type": "code",
   "execution_count": null,
   "id": "e254a16a",
   "metadata": {},
   "outputs": [],
   "source": [
    "for i in tqdm(range(len(x))):\n",
    "    try:\n",
    "        if(len(x[i]) < 20):\n",
    "            x[i] = (20-len(x[i])) // 2 * '0' + x[i] + (20-len(x[i])) // 2 * '0' + len(x[i]) % 2 * '0'            \n",
    "    except:\n",
    "        pass"
   ]
  },
  {
   "cell_type": "markdown",
   "id": "dcf0c8c0",
   "metadata": {},
   "source": [
    "## Creating Letter-Number Mapping"
   ]
  },
  {
   "cell_type": "code",
   "execution_count": null,
   "id": "5240ef58",
   "metadata": {},
   "outputs": [],
   "source": [
    "jn=\"\".join(x)\n",
    "\n",
    "chars = sorted(list(set(jn)))\n",
    "mapping = dict((c, i) for i, c in enumerate(chars))\n",
    "\n",
    "file = open(\"mapping.pkl\", \"wb\")\n",
    "pickle.dump(mapping, file)\n",
    "file.close()\n",
    "\n",
    "# file = open(\"mapping.pkl\", \"rb\")\n",
    "# output = pickle.load(file)\n",
    "# print(output)\n",
    "# file.close()"
   ]
  },
  {
   "cell_type": "markdown",
   "id": "9d4c48f9",
   "metadata": {},
   "source": [
    "## Performing One-Hot Encoding"
   ]
  },
  {
   "cell_type": "code",
   "execution_count": null,
   "id": "44884c56",
   "metadata": {},
   "outputs": [],
   "source": [
    "lbl = LabelEncoder()\n",
    "one = OneHotEncoder()\n",
    "y=lbl.fit_transform(y)\n",
    "y=one.fit_transform(y.reshape(len(y),1)).toarray()"
   ]
  },
  {
   "cell_type": "markdown",
   "id": "8b607220",
   "metadata": {},
   "source": [
    "## Converting Letters into Numbers (Vectorizing)"
   ]
  },
  {
   "cell_type": "code",
   "execution_count": null,
   "id": "10491248",
   "metadata": {},
   "outputs": [],
   "source": [
    "names = []\n",
    "for line in x:\n",
    "    encoded_seq = [mapping[char] for char in line]\n",
    "    names.append(encoded_seq)\n",
    "    print(encoded_seq)"
   ]
  },
  {
   "cell_type": "code",
   "execution_count": null,
   "id": "16cf858b",
   "metadata": {},
   "outputs": [],
   "source": [
    "x=np.array(names).reshape(len(names),20,1)"
   ]
  },
  {
   "cell_type": "markdown",
   "id": "57e14bea",
   "metadata": {},
   "source": [
    "## Splitting 'x' and 'y' into test and train data"
   ]
  },
  {
   "cell_type": "code",
   "execution_count": null,
   "id": "68350410",
   "metadata": {},
   "outputs": [],
   "source": [
    "x_train,x_test,y_train,y_test=train_test_split(x,y,test_size=0.2, random_state=42)"
   ]
  },
  {
   "cell_type": "markdown",
   "id": "756e15cf",
   "metadata": {},
   "source": [
    "## Creating LSTM Model"
   ]
  },
  {
   "cell_type": "code",
   "execution_count": null,
   "id": "d770281e",
   "metadata": {},
   "outputs": [],
   "source": [
    "model = Sequential()\n",
    "model.add(LSTM(80, input_shape=(x.shape[1], x.shape[2]), return_sequences=True))\n",
    "model.add(Dropout(0.2))\n",
    "model.add(LSTM(150, input_shape=(x.shape[1], x.shape[2]), return_sequences=True))\n",
    "model.add(Dropout(0.2))\n",
    "model.add(LSTM(150))\n",
    "model.add(Dropout(0.2))\n",
    "model.add(Dense(y.shape[1], activation='softmax'))\n",
    "model.compile(optimizer=\"Adam\", loss='categorical_crossentropy', metrics=['accuracy'])\n",
    "model.summary()"
   ]
  },
  {
   "cell_type": "markdown",
   "id": "165a25af",
   "metadata": {},
   "source": [
    "## Training LSTM Model"
   ]
  },
  {
   "cell_type": "code",
   "execution_count": null,
   "id": "2031f9dc",
   "metadata": {},
   "outputs": [],
   "source": [
    "model.fit(x_train, y_train, batch_size=50, epochs=30, verbose=1, validation_data=(x_test,y_test)) "
   ]
  },
  {
   "cell_type": "code",
   "execution_count": null,
   "id": "1ebe377f",
   "metadata": {
    "scrolled": true
   },
   "outputs": [],
   "source": [
    "accuracy = 0.0\n",
    "for index in tqdm(range(len(x_test))) :\n",
    "    original = int(y_test[index][1])\n",
    "    pred = model.predict_classes([[x_test[index]]])[0]\n",
    "    if original == pred :\n",
    "        accuracy += 1\n",
    "\n",
    "print(\"Accuracy: \", round(accuracy/len(x_test), 3), \"%\")"
   ]
  },
  {
   "cell_type": "markdown",
   "id": "da86055c",
   "metadata": {},
   "source": [
    "## Saving Model with Weights"
   ]
  },
  {
   "cell_type": "code",
   "execution_count": null,
   "id": "4d0266b9",
   "metadata": {},
   "outputs": [],
   "source": [
    "from keras.models import model_from_json\n",
    "\n",
    "model_json = model.to_json()\n",
    "with open(\"model.json\", \"w\") as json_file :\n",
    "    json_file.write(model_json)\n",
    "    \n",
    "model.save_weights(\"weights.h5\")"
   ]
  },
  {
   "cell_type": "markdown",
   "id": "bfa98814",
   "metadata": {},
   "source": [
    "# Loading Model + Weights and Mapping/Vectorizer"
   ]
  },
  {
   "cell_type": "code",
   "execution_count": null,
   "id": "aa1e702e",
   "metadata": {},
   "outputs": [],
   "source": [
    "file = open('model.json', 'r')\n",
    "json_file = file.read()\n",
    "file.close()\n",
    "loaded_model = model_from_json(json_file)\n",
    "loaded_model.load_weights(\"weights.h5\")\n",
    "loaded_model.compile(optimizer=\"Adam\", loss='categorical_crossentropy', metrics=['accuracy'])"
   ]
  },
  {
   "cell_type": "markdown",
   "id": "0ef833a6",
   "metadata": {},
   "source": [
    "## Function to Guess the Gender"
   ]
  },
  {
   "cell_type": "code",
   "execution_count": null,
   "id": "f5762421",
   "metadata": {},
   "outputs": [],
   "source": [
    "def gender(english) :\n",
    "    name = to_hindi.convert([english])[0]\n",
    "    name = (20-len(name)) // 2 * '0' + name + (20-len(name)) // 2 * '0' + len(name) % 2 * '0'\n",
    "    encoded = np.array([[mapping[char] for char in name]]).reshape((1, 20, 1))\n",
    "    gender = loaded_model.predict_classes(encoded)[0]\n",
    "    if gender == 0 :\n",
    "        return \"BOY\"\n",
    "    else :\n",
    "        return \"GIRL\"\n",
    "   "
   ]
  },
  {
   "cell_type": "code",
   "execution_count": null,
   "id": "6e2e7462",
   "metadata": {},
   "outputs": [],
   "source": [
    "names = boy_english[:10]\n",
    "for name in names :\n",
    "    print(name, end=\"\")\n",
    "    print(\" >>> \", gender(name))"
   ]
  },
  {
   "cell_type": "code",
   "execution_count": null,
   "id": "269d7d1e",
   "metadata": {},
   "outputs": [],
   "source": [
    "gender(\"BabiTaa\")"
   ]
  },
  {
   "cell_type": "code",
   "execution_count": null,
   "id": "35ef4e34",
   "metadata": {},
   "outputs": [],
   "source": []
  },
  {
   "cell_type": "code",
   "execution_count": null,
   "id": "d0261760",
   "metadata": {},
   "outputs": [],
   "source": []
  }
 ],
 "metadata": {
  "kernelspec": {
   "display_name": "NLP Mini Kernel",
   "language": "python",
   "name": "nlpmini"
  },
  "language_info": {
   "codemirror_mode": {
    "name": "ipython",
    "version": 3
   },
   "file_extension": ".py",
   "mimetype": "text/x-python",
   "name": "python",
   "nbconvert_exporter": "python",
   "pygments_lexer": "ipython3",
   "version": "3.7.10"
  }
 },
 "nbformat": 4,
 "nbformat_minor": 5
}
